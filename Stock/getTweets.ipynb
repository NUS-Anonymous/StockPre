{
 "cells": [
  {
   "cell_type": "code",
   "execution_count": 1,
   "metadata": {},
   "outputs": [],
   "source": [
    "import os\n",
    "import os.path\n",
    "import Exporter\n",
    "import got3\n",
    "import codecs\n",
    "from datetime import datetime\n",
    "from datetime import timedelta\n",
    "import time\n",
    "from threading import Thread\n",
    "import pickle\n",
    "cwd = os.getcwd()\n",
    "parentDir = os.path.dirname(cwd)\n"
   ]
  },
  {
   "cell_type": "code",
   "execution_count": null,
   "metadata": {},
   "outputs": [],
   "source": []
  },
  {
   "cell_type": "code",
   "execution_count": 2,
   "metadata": {},
   "outputs": [],
   "source": [
    "\n",
    "start_time = time.time()\n",
    "\n",
    "def savePickleFile(d,varList):\n",
    "    with open(d, 'wb') as f: \n",
    "        pickle.dump(varList, f)\n",
    "    f.close()\n",
    "def loadPickleFile(d):\n",
    "    with open(d,'rb') as f:  # Python 3: open(..., 'rb')\n",
    "        varList = pickle.load(f)\n",
    "    f.close()\n",
    "    return varList \n",
    "\n",
    "def makeDirectory(folder_name1,sub_folder):\n",
    "    directory = os.path.join(folder_name1 , sub_folder)\n",
    "    if not os.path.exists(directory):\n",
    "            os.makedirs(directory)\n",
    "    return directory\n",
    "\n",
    "def getOutputDir(folderName,fileName):\n",
    "    global parentDir\n",
    "    outputPath = makeDirectory(parentDir , folderName) \n",
    "    d = outputPath + \"/%s\"%(fileName)\n",
    "    return d\n",
    "\n",
    "def getData(name,startObj,endObj):\n",
    "    \n",
    "#     print (\"getting Data\")\n",
    "    start = startObj.strftime('%Y-%m-%d')\n",
    "    end = endObj.strftime('%Y-%m-%d')\n",
    "    tweetCriteria = got3.manager.TweetCriteria().setUsername(name).setSince(start).setUntil(end).setMaxTweets(0)\n",
    "    tweet = got3.manager.TweetManager.getTweets(tweetCriteria)\n",
    "    outputFileName = getOutputDir(\"Twitter\",name+\".csv\")\n",
    "    outputFile = codecs.open(outputFileName, \"a\", \"utf-8\")\n",
    "    for t in tweet:\n",
    "        outputFile.write(('%s;%s;%d;%d;\"%s\"\\n' % (name,t.date.strftime(\"%Y-%m-%d %H:%M\"), t.retweets, t.favorites, t.text)))\n",
    "    outputFile.flush()"
   ]
  },
  {
   "cell_type": "code",
   "execution_count": null,
   "metadata": {},
   "outputs": [],
   "source": []
  },
  {
   "cell_type": "code",
   "execution_count": 3,
   "metadata": {
    "scrolled": true
   },
   "outputs": [],
   "source": [
    "def getTweets(name):\n",
    "#     print (\"Getting \" + name)\n",
    "    if (os.path.isfile(getOutputDir(\"Twitter\",\"config.pkl\"))):\n",
    "        timeDict = loadPickleFile(getOutputDir(\"Twitter\",\"config.pkl\"))[0]\n",
    "    else:\n",
    "        timeDict = {}\n",
    "\n",
    "    now = datetime.now()\n",
    "#     now = datetime(2016,1,20)\n",
    "    endNow = now\n",
    "    end = endNow\n",
    "    one_week = timedelta(days=30)\n",
    "    fName =getOutputDir(\"Twitter\",name+\".csv\")\n",
    "#     if (not (os.path.isfile(fName))):\n",
    "#         print (\"New Indiv_Database\")\n",
    "    if (name in timeDict):\n",
    "        start_STOPObject = timeDict[name]\n",
    "#         print (start_STOPObject)\n",
    "    else:\n",
    "        start_STOP = '2018-05-07'\n",
    "        start_STOPObject = datetime.strptime(start_STOP, '%Y-%m-%d')\n",
    "   \n",
    "    start = end - one_week\n",
    "    while (start > start_STOPObject):\n",
    "        getData(name,start,end)\n",
    "        end = start\n",
    "        start = end - one_week\n",
    "    getData(name,start_STOPObject,end)\n",
    "    \n",
    "    if (os.path.isfile(getOutputDir(\"Twitter\",\"config.pkl\"))):\n",
    "        timeDict = loadPickleFile(getOutputDir(\"Twitter\",\"config.pkl\"))[0]\n",
    "    timeDict[name]=end\n",
    "    savePickleFile(getOutputDir(\"Twitter\",\"config.pkl\"),[timeDict])\n",
    "#     print (timeDict)\n",
    "#     else: \n",
    "# #         print (\"Just Append\")\n",
    "#         tRead=(time.ctime(os.stat(fName).st_atime))\n",
    "#         fileDate = datetime.strptime(tRead, \"%a %b %d %H:%M:%S %Y\")\n",
    "#         start = fileDate\n",
    "#         getData(name,start,end)"
   ]
  },
  {
   "cell_type": "code",
   "execution_count": null,
   "metadata": {},
   "outputs": [],
   "source": []
  },
  {
   "cell_type": "code",
   "execution_count": 4,
   "metadata": {
    "scrolled": true
   },
   "outputs": [
    {
     "name": "stderr",
     "output_type": "stream",
     "text": [
      "Exception in thread Thread-34:\n",
      "Traceback (most recent call last):\n",
      "  File \"/home/ubun/anaconda3/lib/python3.6/threading.py\", line 916, in _bootstrap_inner\n",
      "    self.run()\n",
      "  File \"/home/ubun/anaconda3/lib/python3.6/threading.py\", line 864, in run\n",
      "    self._target(*self._args, **self._kwargs)\n",
      "  File \"<ipython-input-3-e69b20bb7212>\", line 4, in getTweets\n",
      "    timeDict = loadPickleFile(getOutputDir(\"Twitter\",\"config.pkl\"))[0]\n",
      "  File \"<ipython-input-2-9045155e2c64>\", line 10, in loadPickleFile\n",
      "    varList = pickle.load(f)\n",
      "EOFError: Ran out of input\n",
      "\n",
      "Exception in thread Thread-25:\n",
      "Traceback (most recent call last):\n",
      "  File \"/home/ubun/anaconda3/lib/python3.6/threading.py\", line 916, in _bootstrap_inner\n",
      "    self.run()\n",
      "  File \"/home/ubun/anaconda3/lib/python3.6/threading.py\", line 864, in run\n",
      "    self._target(*self._args, **self._kwargs)\n",
      "  File \"<ipython-input-3-e69b20bb7212>\", line 4, in getTweets\n",
      "    timeDict = loadPickleFile(getOutputDir(\"Twitter\",\"config.pkl\"))[0]\n",
      "  File \"<ipython-input-2-9045155e2c64>\", line 10, in loadPickleFile\n",
      "    varList = pickle.load(f)\n",
      "EOFError: Ran out of input\n",
      "\n",
      "Exception in thread Thread-33:\n",
      "Traceback (most recent call last):\n",
      "  File \"/home/ubun/anaconda3/lib/python3.6/threading.py\", line 916, in _bootstrap_inner\n",
      "    self.run()\n",
      "  File \"/home/ubun/anaconda3/lib/python3.6/threading.py\", line 864, in run\n",
      "    self._target(*self._args, **self._kwargs)\n",
      "  File \"<ipython-input-3-e69b20bb7212>\", line 31, in getTweets\n",
      "    timeDict = loadPickleFile(getOutputDir(\"Twitter\",\"config.pkl\"))[0]\n",
      "  File \"<ipython-input-2-9045155e2c64>\", line 10, in loadPickleFile\n",
      "    varList = pickle.load(f)\n",
      "EOFError: Ran out of input\n",
      "\n"
     ]
    },
    {
     "name": "stdout",
     "output_type": "stream",
     "text": [
      "Exit main thread\n",
      "--- 9.121271133422852 seconds ---\n"
     ]
    }
   ],
   "source": [
    "ppl=[\"BillGates\",\"realdonaldtrump\",\"Ellen\",\"ElonMusk\",\"barackobama\",\"katyperry\",'justinbieber','rihanna',\n",
    "    'ladygaga','taylorswift13','TheEllenShow','Cristiano','YouTube','jtimberlake','Twitter','KimKardashian',\n",
    "    'ArianaGrande','ddlovato','selenagomez','cnnbrk','shakira','jimmyfallon','HillaryClinton',\n",
    "    'JeffBezos0147','JustinTrudeau','KylieJenner','Official_Markfb','MoneyUnder30','NASA','Oprah','Yahoo']\n",
    "\n",
    "\n",
    "threads=[]\n",
    "for p in ppl:\n",
    "    t = Thread(target = getTweets, args = (p,)) \n",
    "    threads.append(t)\n",
    "for t in threads:\n",
    "    t.start()\n",
    "for t in threads:\n",
    "    t.join()\n",
    "print(\"Exit main thread\")\n",
    "print(\"--- %s seconds ---\" % (time.time() - start_time))\n"
   ]
  },
  {
   "cell_type": "code",
   "execution_count": 5,
   "metadata": {
    "scrolled": false
   },
   "outputs": [
    {
     "data": {
      "text/plain": [
       "{'ArianaGrande': datetime.datetime(2018, 5, 11, 22, 25, 22, 620456),\n",
       " 'BillGates': datetime.datetime(2018, 5, 11, 22, 25, 21, 927139),\n",
       " 'Cristiano': datetime.datetime(2018, 5, 11, 22, 25, 22, 270937),\n",
       " 'Ellen': datetime.datetime(2018, 5, 11, 22, 25, 22, 7128),\n",
       " 'ElonMusk': datetime.datetime(2018, 5, 11, 22, 25, 22, 41205),\n",
       " 'HillaryClinton': datetime.datetime(2018, 5, 11, 22, 25, 22, 843640),\n",
       " 'JeffBezos0147': datetime.datetime(2018, 5, 11, 22, 25, 22, 918762),\n",
       " 'JustinTrudeau': datetime.datetime(2018, 5, 11, 22, 25, 23, 2015),\n",
       " 'KimKardashian': datetime.datetime(2018, 5, 11, 22, 25, 22, 417054),\n",
       " 'KylieJenner': datetime.datetime(2018, 5, 11, 22, 25, 23, 272526),\n",
       " 'MoneyUnder30': datetime.datetime(2018, 5, 11, 22, 25, 23, 446704),\n",
       " 'NASA': datetime.datetime(2018, 5, 11, 22, 25, 23, 441297),\n",
       " 'Official_Markfb': datetime.datetime(2018, 5, 11, 22, 25, 23, 331704),\n",
       " 'TheEllenShow': datetime.datetime(2018, 5, 11, 22, 25, 22, 269404),\n",
       " 'Twitter': datetime.datetime(2018, 5, 11, 22, 25, 22, 410511),\n",
       " 'YouTube': datetime.datetime(2018, 5, 11, 22, 25, 22, 391101),\n",
       " 'barackobama': datetime.datetime(2018, 5, 11, 22, 25, 22, 108913),\n",
       " 'cnnbrk': datetime.datetime(2018, 5, 11, 22, 25, 22, 703397),\n",
       " 'jtimberlake': datetime.datetime(2018, 5, 11, 22, 25, 22, 402544),\n",
       " 'justinbieber': datetime.datetime(2018, 5, 11, 22, 25, 22, 176383),\n",
       " 'katyperry': datetime.datetime(2018, 5, 11, 22, 25, 22, 114581),\n",
       " 'ladygaga': datetime.datetime(2018, 5, 11, 22, 25, 22, 238032),\n",
       " 'realdonaldtrump': datetime.datetime(2018, 5, 11, 22, 25, 21, 973935),\n",
       " 'rihanna': datetime.datetime(2018, 5, 11, 22, 25, 22, 172579),\n",
       " 'selenagomez': datetime.datetime(2018, 5, 11, 22, 25, 22, 738409),\n",
       " 'shakira': datetime.datetime(2018, 5, 11, 22, 25, 23, 175695),\n",
       " 'taylorswift13': datetime.datetime(2018, 5, 11, 22, 25, 22, 244011)}"
      ]
     },
     "execution_count": 5,
     "metadata": {},
     "output_type": "execute_result"
    }
   ],
   "source": [
    "loadPickleFile(getOutputDir(\"Twitter\",\"config.pkl\"))[0]"
   ]
  },
  {
   "cell_type": "code",
   "execution_count": null,
   "metadata": {},
   "outputs": [],
   "source": []
  },
  {
   "cell_type": "code",
   "execution_count": null,
   "metadata": {},
   "outputs": [],
   "source": []
  },
  {
   "cell_type": "code",
   "execution_count": null,
   "metadata": {},
   "outputs": [],
   "source": []
  },
  {
   "cell_type": "code",
   "execution_count": null,
   "metadata": {},
   "outputs": [],
   "source": []
  }
 ],
 "metadata": {
  "kernelspec": {
   "display_name": "Python 3",
   "language": "python",
   "name": "python3"
  },
  "language_info": {
   "codemirror_mode": {
    "name": "ipython",
    "version": 3
   },
   "file_extension": ".py",
   "mimetype": "text/x-python",
   "name": "python",
   "nbconvert_exporter": "python",
   "pygments_lexer": "ipython3",
   "version": "3.6.4"
  }
 },
 "nbformat": 4,
 "nbformat_minor": 2
}
