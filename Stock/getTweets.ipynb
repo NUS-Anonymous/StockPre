{
 "cells": [
  {
   "cell_type": "code",
   "execution_count": 1,
   "metadata": {},
   "outputs": [],
   "source": [
    "import os\n",
    "import os.path\n",
    "import Exporter\n",
    "import got3\n",
    "import codecs\n",
    "from datetime import datetime\n",
    "from datetime import timedelta\n",
    "import time\n",
    "from threading import Thread\n",
    "import pickle\n",
    "cwd = os.getcwd()\n",
    "parentDir = os.path.dirname(cwd)\n"
   ]
  },
  {
   "cell_type": "code",
   "execution_count": null,
   "metadata": {},
   "outputs": [],
   "source": []
  },
  {
   "cell_type": "code",
   "execution_count": 2,
   "metadata": {},
   "outputs": [],
   "source": [
    "\n",
    "start_time = time.time()\n",
    "\n",
    "def savePickleFile(d,varList):\n",
    "    with open(d, 'wb') as f: \n",
    "        pickle.dump(varList, f)\n",
    "    f.close()\n",
    "def loadPickleFile(d):\n",
    "    with open(d,'rb') as f:  # Python 3: open(..., 'rb')\n",
    "        varList = pickle.load(f)\n",
    "    f.close()\n",
    "    return varList \n",
    "\n",
    "def makeDirectory(folder_name1,sub_folder):\n",
    "    directory = os.path.join(folder_name1 , sub_folder)\n",
    "    if not os.path.exists(directory):\n",
    "            os.makedirs(directory)\n",
    "    return directory\n",
    "\n",
    "def getOutputDir(folderName,fileName):\n",
    "    global parentDir\n",
    "    outputPath = makeDirectory(parentDir , folderName) \n",
    "    d = outputPath + \"/%s\"%(fileName)\n",
    "    return d\n",
    "\n",
    "def getData(name,startObj,endObj):\n",
    "    \n",
    "#     print (\"getting Data\")\n",
    "    start = startObj.strftime('%Y-%m-%d')\n",
    "    end = endObj.strftime('%Y-%m-%d')\n",
    "    tweetCriteria = got3.manager.TweetCriteria().setUsername(name).setSince(start).setUntil(end).setMaxTweets(0)\n",
    "    tweet = got3.manager.TweetManager.getTweets(tweetCriteria)\n",
    "    outputFileName = getOutputDir(\"Twitter\",name+\".csv\")\n",
    "    outputFile = codecs.open(outputFileName, \"a\", \"utf-8\")\n",
    "    for t in tweet:\n",
    "        outputFile.write(('%s;%s;%d;%d;\"%s\"\\n' % (name,t.date.strftime(\"%Y-%m-%d %H:%M\"), t.retweets, t.favorites, t.text)))\n",
    "    outputFile.flush()"
   ]
  },
  {
   "cell_type": "code",
   "execution_count": null,
   "metadata": {},
   "outputs": [],
   "source": []
  },
  {
   "cell_type": "code",
   "execution_count": 3,
   "metadata": {
    "scrolled": true
   },
   "outputs": [],
   "source": [
    "def getTweets(name):\n",
    "#     print (\"Getting \" + name)\n",
    "    if (os.path.isfile(getOutputDir(\"Twitter\",\"config.pkl\"))):\n",
    "        timeDict = loadPickleFile(getOutputDir(\"Twitter\",\"config.pkl\"))[0]\n",
    "    else:\n",
    "        timeDict = {}\n",
    "\n",
    "    now = datetime.now()\n",
    "#     now = datetime(2016,1,20)\n",
    "    endNow = now\n",
    "    end = endNow\n",
    "    one_week = timedelta(days=30)\n",
    "    fName =getOutputDir(\"Twitter\",name+\".csv\")\n",
    "#     if (not (os.path.isfile(fName))):\n",
    "#         print (\"New Indiv_Database\")\n",
    "    if (name in timeDict):\n",
    "        start_STOPObject = timeDict[name]\n",
    "#         print (start_STOPObject)\n",
    "    else:\n",
    "        start_STOP = '2014-01-01'\n",
    "        start_STOPObject = datetime.strptime(start_STOP, '%Y-%m-%d')\n",
    "   \n",
    "    start = end - one_week\n",
    "    while (start > start_STOPObject):\n",
    "        getData(name,start,end)\n",
    "        end = start\n",
    "        start = end - one_week\n",
    "    getData(name,start_STOPObject,end)\n",
    "    \n",
    "    if (os.path.isfile(getOutputDir(\"Twitter\",\"config.pkl\"))):\n",
    "        timeDict = loadPickleFile(getOutputDir(\"Twitter\",\"config.pkl\"))[0]\n",
    "    timeDict[name]=end\n",
    "    savePickleFile(getOutputDir(\"Twitter\",\"config.pkl\"),[timeDict])\n",
    "#     print (timeDict)\n",
    "#     else: \n",
    "# #         print (\"Just Append\")\n",
    "#         tRead=(time.ctime(os.stat(fName).st_atime))\n",
    "#         fileDate = datetime.strptime(tRead, \"%a %b %d %H:%M:%S %Y\")\n",
    "#         start = fileDate\n",
    "#         getData(name,start,end)"
   ]
  },
  {
   "cell_type": "code",
   "execution_count": null,
   "metadata": {},
   "outputs": [],
   "source": []
  },
  {
   "cell_type": "code",
   "execution_count": 4,
   "metadata": {
    "scrolled": true
   },
   "outputs": [
    {
     "name": "stdout",
     "output_type": "stream",
     "text": [
      "Twitter weird response. Try to see on browser: https://twitter.com/search?q=%20from%3ASamir_Madani%20since%3A2018-01-12%20until%3A2018-02-11&src=typd\n",
      "Unexpected error: <class 'urllib.error.URLError'>\n",
      "Exit main thread\n",
      "--- 6118.495594263077 seconds ---\n"
     ]
    }
   ],
   "source": [
    "ppl=[\"BillGates\",\"realdonaldtrump\",\"Ellen\",\"ElonMusk\",\"barackobama\",\"katyperry\",'justinbieber','rihanna',\n",
    "    'ladygaga','taylorswift13','TheEllenShow','Cristiano','YouTube','jtimberlake','Twitter','KimKardashian',\n",
    "    'ArianaGrande','ddlovato','selenagomez','cnnbrk','shakira','jimmyfallon','HillaryClinton',\n",
    "    'JeffBezos0147','JustinTrudeau','KylieJenner','MoneyUnder30','NASA','Oprah','Yahoo',\n",
    "     'cnbc','benzinga','stocktwits','breakoutstocks','bespokeinvest','WSJMarkets','stephanie_link',\n",
    "    'nytimesbusiness','IBDinvestors','Schuldensuehner','LizAnnSonders','NorthmanTrader','Frances_Coppola',\n",
    "    'bySamRo','ErikFossing','KLCapital','CiovaccoCapital','JLyonsFundMGMT','SconsetCapital','Samir_Madani',\n",
    "    'Amena__Bakr','Brenda_Kelly','IvanTheK','StockCats','Financial_Orbit','hmeisler','MarkYusko','Livesquawk','katie_martin_fx',\n",
    "    'faithmight','vexmark','andrewnyquist','TheStalwart','Sassy_SPY','RyanDetrick','_SeanDavid','TheBubbleBubble',\n",
    "    'AnneMarieTrades','KeithMcCullough','ritholtz','JeffMacke','FXCM','Kitjuckes','callieabost']\n",
    "\n",
    "\n",
    "threads=[]\n",
    "for p in ppl:\n",
    "    t = Thread(target = getTweets, args = (p,)) \n",
    "    threads.append(t)\n",
    "for t in threads:\n",
    "    t.start()\n",
    "for t in threads:\n",
    "    t.join()\n",
    "print(\"Exit main thread\")\n",
    "print(\"--- %s seconds ---\" % (time.time() - start_time))\n"
   ]
  },
  {
   "cell_type": "code",
   "execution_count": 5,
   "metadata": {
    "scrolled": false
   },
   "outputs": [
    {
     "data": {
      "text/plain": [
       "{'Amena__Bakr': datetime.datetime(2014, 1, 3, 13, 11, 54, 149257),\n",
       " 'AnneMarieTrades': datetime.datetime(2014, 1, 3, 13, 11, 54, 734498),\n",
       " 'ArianaGrande': datetime.datetime(2014, 1, 3, 13, 11, 53, 305766),\n",
       " 'BillGates': datetime.datetime(2014, 1, 3, 13, 11, 53, 24076),\n",
       " 'Brenda_Kelly': datetime.datetime(2014, 1, 3, 13, 11, 54, 202411),\n",
       " 'CiovaccoCapital': datetime.datetime(2014, 1, 3, 13, 11, 54, 52087),\n",
       " 'Cristiano': datetime.datetime(2014, 1, 3, 13, 11, 53, 207998),\n",
       " 'Ellen': datetime.datetime(2014, 1, 3, 13, 11, 53, 61034),\n",
       " 'ElonMusk': datetime.datetime(2014, 1, 3, 13, 11, 53, 75480),\n",
       " 'ErikFossing': datetime.datetime(2014, 1, 3, 13, 11, 53, 944735),\n",
       " 'FXCM': datetime.datetime(2014, 1, 3, 13, 11, 54, 791658),\n",
       " 'Financial_Orbit': datetime.datetime(2014, 1, 3, 13, 11, 54, 249431),\n",
       " 'Frances_Coppola': datetime.datetime(2014, 1, 3, 13, 11, 53, 939113),\n",
       " 'GaveKalCapital': datetime.datetime(2014, 1, 3, 13, 11, 54, 11829),\n",
       " 'HillaryClinton': datetime.datetime(2014, 1, 3, 13, 11, 53, 401397),\n",
       " 'IBDinvestors': datetime.datetime(2014, 1, 3, 13, 11, 53, 774483),\n",
       " 'IvanTheK': datetime.datetime(2014, 1, 3, 13, 11, 54, 206352),\n",
       " 'JLyonsFundMGMT': datetime.datetime(2014, 1, 3, 13, 11, 54, 78133),\n",
       " 'JeffBezos0147': datetime.datetime(2014, 1, 3, 13, 11, 53, 427765),\n",
       " 'JeffMacke': datetime.datetime(2014, 1, 3, 13, 11, 54, 809935),\n",
       " 'JustinTrudeau': datetime.datetime(2014, 1, 3, 13, 11, 53, 430109),\n",
       " 'KeithMcCullough': datetime.datetime(2014, 1, 3, 13, 11, 54, 719537),\n",
       " 'KimKardashian': datetime.datetime(2014, 1, 3, 13, 11, 53, 288092),\n",
       " 'Kitjuckes': datetime.datetime(2014, 1, 3, 13, 11, 54, 833994),\n",
       " 'KylieJenner': datetime.datetime(2014, 1, 3, 13, 11, 53, 433246),\n",
       " 'Livesquawk': datetime.datetime(2014, 1, 3, 13, 11, 54, 323490),\n",
       " 'LizAnnSonders': datetime.datetime(2014, 1, 3, 13, 11, 53, 850947),\n",
       " 'MarkYusko': datetime.datetime(2014, 1, 3, 13, 11, 54, 303282),\n",
       " 'MoneyUnder30': datetime.datetime(2014, 1, 3, 13, 11, 53, 510017),\n",
       " 'NASA': datetime.datetime(2014, 1, 3, 13, 11, 53, 491409),\n",
       " 'NorthmanTrader': datetime.datetime(2014, 1, 3, 13, 11, 53, 880098),\n",
       " 'Official_Markfb': datetime.datetime(2014, 1, 3, 13, 11, 53, 461596),\n",
       " 'Oprah': datetime.datetime(2014, 1, 3, 13, 11, 53, 494515),\n",
       " 'RyanDetrick': datetime.datetime(2014, 1, 3, 13, 11, 54, 564615),\n",
       " 'Sassy_SPY': datetime.datetime(2014, 1, 3, 13, 11, 54, 549465),\n",
       " 'Schuldensuehner': datetime.datetime(2014, 1, 3, 13, 11, 53, 827217),\n",
       " 'SconsetCapital': datetime.datetime(2014, 1, 3, 13, 11, 54, 130475),\n",
       " 'StockCats': datetime.datetime(2014, 1, 3, 13, 11, 54, 184914),\n",
       " 'TDANSherrod': datetime.datetime(2014, 1, 3, 13, 11, 54, 75852),\n",
       " 'TheBubbleBubble': datetime.datetime(2014, 1, 3, 13, 11, 54, 631068),\n",
       " 'TheEllenShow': datetime.datetime(2014, 1, 3, 13, 11, 53, 184368),\n",
       " 'TheStalwart': datetime.datetime(2014, 1, 3, 13, 11, 54, 427804),\n",
       " 'Twitter': datetime.datetime(2014, 1, 3, 13, 11, 53, 250594),\n",
       " 'WSJDealJournal': datetime.datetime(2014, 1, 3, 13, 11, 53, 806490),\n",
       " 'WSJMarkets': datetime.datetime(2014, 1, 3, 13, 11, 53, 699451),\n",
       " 'Yahoo': datetime.datetime(2014, 1, 3, 13, 11, 53, 543827),\n",
       " 'YouTube': datetime.datetime(2014, 1, 3, 13, 11, 53, 224403),\n",
       " '_SeanDavid': datetime.datetime(2014, 1, 3, 13, 11, 54, 607274),\n",
       " 'andrewnyquist': datetime.datetime(2014, 1, 3, 13, 11, 54, 425073),\n",
       " 'barackobama': datetime.datetime(2014, 1, 3, 13, 11, 53, 77907),\n",
       " 'benzinga': datetime.datetime(2014, 1, 3, 13, 11, 53, 618970),\n",
       " 'bespokeinvest': datetime.datetime(2014, 1, 3, 13, 11, 53, 655946),\n",
       " 'breakoutstocks': datetime.datetime(2014, 1, 3, 13, 11, 53, 602293),\n",
       " 'bySamRo': datetime.datetime(2014, 1, 3, 13, 11, 53, 965088),\n",
       " 'callieabost': datetime.datetime(2014, 1, 3, 13, 11, 54, 810830),\n",
       " 'cnbc': datetime.datetime(2014, 1, 3, 13, 11, 53, 568930),\n",
       " 'cnnbrk': datetime.datetime(2014, 1, 3, 13, 11, 53, 348685),\n",
       " 'ddlovato': datetime.datetime(2014, 1, 3, 13, 11, 53, 308963),\n",
       " 'faithmight': datetime.datetime(2014, 1, 3, 13, 11, 54, 372293),\n",
       " 'hmeisler': datetime.datetime(2014, 1, 3, 13, 11, 54, 272224),\n",
       " 'jimcrammer': datetime.datetime(2014, 1, 3, 13, 11, 53, 571348),\n",
       " 'jimmyfallon': datetime.datetime(2014, 1, 3, 13, 11, 53, 402783),\n",
       " 'jtimberlake': datetime.datetime(2014, 1, 3, 13, 11, 53, 227418),\n",
       " 'justinbieber': datetime.datetime(2014, 1, 3, 13, 11, 53, 130033),\n",
       " 'katie_martin_fx': datetime.datetime(2014, 1, 3, 13, 11, 54, 287741),\n",
       " 'katyperry': datetime.datetime(2014, 1, 3, 13, 11, 53, 113274),\n",
       " 'ladygaga': datetime.datetime(2014, 1, 3, 13, 11, 53, 166593),\n",
       " 'nytimesbusiness': datetime.datetime(2014, 1, 3, 13, 11, 53, 740197),\n",
       " 'realdonaldtrump': datetime.datetime(2014, 1, 3, 13, 11, 53, 41711),\n",
       " 'rihanna': datetime.datetime(2014, 1, 3, 13, 11, 53, 146280),\n",
       " 'ritholtz': datetime.datetime(2014, 1, 3, 13, 11, 54, 738533),\n",
       " 'selenagomez': datetime.datetime(2014, 1, 3, 13, 11, 53, 317765),\n",
       " 'shakira': datetime.datetime(2014, 1, 3, 13, 11, 53, 365998),\n",
       " 'stephanie_link': datetime.datetime(2014, 1, 3, 13, 11, 53, 702460),\n",
       " 'stocktwits': datetime.datetime(2014, 1, 3, 13, 11, 53, 574932),\n",
       " 'taylorswift13': datetime.datetime(2014, 1, 3, 13, 11, 53, 163681),\n",
       " 'vexmark': datetime.datetime(2014, 1, 3, 13, 11, 54, 404027)}"
      ]
     },
     "execution_count": 5,
     "metadata": {},
     "output_type": "execute_result"
    }
   ],
   "source": [
    "loadPickleFile(getOutputDir(\"Twitter\",\"config.pkl\"))[0]"
   ]
  },
  {
   "cell_type": "code",
   "execution_count": null,
   "metadata": {},
   "outputs": [],
   "source": []
  },
  {
   "cell_type": "code",
   "execution_count": null,
   "metadata": {},
   "outputs": [],
   "source": []
  },
  {
   "cell_type": "code",
   "execution_count": null,
   "metadata": {},
   "outputs": [],
   "source": []
  },
  {
   "cell_type": "code",
   "execution_count": null,
   "metadata": {},
   "outputs": [],
   "source": []
  }
 ],
 "metadata": {
  "kernelspec": {
   "display_name": "Python 3",
   "language": "python",
   "name": "python3"
  },
  "language_info": {
   "codemirror_mode": {
    "name": "ipython",
    "version": 3
   },
   "file_extension": ".py",
   "mimetype": "text/x-python",
   "name": "python",
   "nbconvert_exporter": "python",
   "pygments_lexer": "ipython3",
   "version": "3.6.4"
  }
 },
 "nbformat": 4,
 "nbformat_minor": 2
}
