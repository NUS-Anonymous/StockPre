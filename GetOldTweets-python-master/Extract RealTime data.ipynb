{
 "cells": [
  {
   "cell_type": "code",
   "execution_count": 1,
   "metadata": {},
   "outputs": [],
   "source": [
    "import Exporter\n",
    "import os.path\n",
    "import got3\n",
    "import codecs\n",
    "from datetime import datetime\n",
    "from datetime import timedelta\n",
    "import time\n",
    "from threading import Thread\n",
    "start_time = time.time()\n",
    "\n",
    "def getData(name,startObj,endObj):\n",
    "#     print (\"getting Data\")\n",
    "    start = startObj.strftime('%Y-%m-%d')\n",
    "    end = endObj.strftime('%Y-%m-%d')\n",
    "    tweetCriteria = got3.manager.TweetCriteria().setUsername(name).setSince(start).setUntil(end).setMaxTweets(0)\n",
    "    tweet = got3.manager.TweetManager.getTweets(tweetCriteria)\n",
    "\n",
    "    outputFileName = \"TweetsData/%s.csv\"%(name)\n",
    "    outputFile = codecs.open(outputFileName, \"a\", \"utf-8\")\n",
    "    for t in tweet:\n",
    "        outputFile.write(('%s;%s;%d;%d;\"%s\"\\n' % (outputFileName,t.date.strftime(\"%Y-%m-%d %H:%M\"), t.retweets, t.favorites, t.text)))\n",
    "    outputFile.flush()"
   ]
  },
  {
   "cell_type": "code",
   "execution_count": 2,
   "metadata": {
    "scrolled": true
   },
   "outputs": [],
   "source": [
    "\n",
    "def getTweets(name):\n",
    "#     print (\"Getting \" + name)\n",
    "\n",
    "    now = datetime.now()\n",
    "    end = now\n",
    "    one_week = timedelta(days=30)\n",
    "    fName ='TweetsData/%s.csv' % name\n",
    "    if (not (os.path.isfile(fName))):\n",
    "#         print (\"New Indiv_Database\")\n",
    "        start_STOP = '2015-12-28'\n",
    "        start_STOPObject = datetime.strptime(start_STOP, '%Y-%m-%d')\n",
    "        start = end - one_week\n",
    "        while (start > start_STOPObject):\n",
    "            getData(name,start,end)\n",
    "            end = start\n",
    "            start = end - one_week\n",
    "    else: \n",
    "#         print (\"Just Append\")\n",
    "        tRead=(time.ctime(os.stat(fName).st_atime))\n",
    "        fileDate = datetime.strptime(tRead, \"%a %b %d %H:%M:%S %Y\")\n",
    "        start = fileDate\n",
    "        getData(name,start,end)\n",
    "\n",
    "    \n",
    "    \n"
   ]
  },
  {
   "cell_type": "code",
   "execution_count": 4,
   "metadata": {},
   "outputs": [
    {
     "name": "stdout",
     "output_type": "stream",
     "text": [
      "Twitter weird response. Try to see on browser: https://twitter.com/search?q=%20from%3AConfidentInvest%20since%3A2016-07-14%20until%3A2016-08-13&src=typd\n",
      "Unexpected error: <class 'urllib.error.HTTPError'>\n",
      "Exit main thread\n",
      "--- 2612.728689432144 seconds ---\n"
     ]
    }
   ],
   "source": [
    "ppl=[\"BillGates\",\"realdonaldtrump\",\"Ellen\",\"ElonMusk\",\"barackobama\",\"katyperry\",'justinbieber','rihanna',\n",
    "    'ladygaga','taylorswift13','TheEllenShow','Cristiano','YouTube','jtimberlake','Twitter','KimKardashian',\n",
    "    'ArianaGrande','ddlovato','selenagomez','cnnbrk','shakira','jimmyfallon','HillaryClinton',\n",
    "    'JeffBezos0147','JustinTrudeau','KylieJenner','Official_Markfb','MoneyUnder30','NASA','Oprah','Yahoo']\n",
    "\n",
    "\n",
    "threads=[]\n",
    "for p in ppl:\n",
    "    t = Thread(target = getTweets, args = (p,)) \n",
    "    threads.append(t)\n",
    "for t in threads:\n",
    "    t.start()\n",
    "for t in threads:\n",
    "    t.join()\n",
    "print(\"Exit main thread\")\n",
    "print(\"--- %s seconds ---\" % (time.time() - start_time))\n"
   ]
  },
  {
   "cell_type": "code",
   "execution_count": null,
   "metadata": {
    "scrolled": false
   },
   "outputs": [],
   "source": []
  },
  {
   "cell_type": "code",
   "execution_count": null,
   "metadata": {},
   "outputs": [],
   "source": []
  },
  {
   "cell_type": "code",
   "execution_count": null,
   "metadata": {},
   "outputs": [],
   "source": []
  },
  {
   "cell_type": "code",
   "execution_count": null,
   "metadata": {},
   "outputs": [],
   "source": []
  },
  {
   "cell_type": "code",
   "execution_count": null,
   "metadata": {},
   "outputs": [],
   "source": []
  }
 ],
 "metadata": {
  "kernelspec": {
   "display_name": "Python 3",
   "language": "python",
   "name": "python3"
  },
  "language_info": {
   "codemirror_mode": {
    "name": "ipython",
    "version": 3
   },
   "file_extension": ".py",
   "mimetype": "text/x-python",
   "name": "python",
   "nbconvert_exporter": "python",
   "pygments_lexer": "ipython3",
   "version": "3.6.4"
  }
 },
 "nbformat": 4,
 "nbformat_minor": 2
}
