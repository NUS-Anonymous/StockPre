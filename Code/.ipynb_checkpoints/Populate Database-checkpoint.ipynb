{
 "cells": [
  {
   "cell_type": "code",
   "execution_count": 2,
   "metadata": {},
   "outputs": [],
   "source": [
    "import sqlite3\n",
    "# Connecting to the database file\n",
    "sqlite_file = \"../mydatabase.db\"\n",
    "conn = sqlite3.connect(sqlite_file)\n",
    "c = conn.cursor()"
   ]
  },
  {
   "cell_type": "code",
   "execution_count": 6,
   "metadata": {},
   "outputs": [],
   "source": [
    "path = '../'\n",
    "os.chdir(path)"
   ]
  },
  {
   "cell_type": "code",
   "execution_count": 12,
   "metadata": {},
   "outputs": [
    {
     "name": "stdout",
     "output_type": "stream",
     "text": [
      "/home/ubun/Desktop/StockPre/Stock/TweetsData\n",
      "/home/ubun/Desktop/StockPre/Stock/TweetsData\n"
     ]
    },
    {
     "ename": "FileNotFoundError",
     "evalue": "[Errno 2] No such file or directory: 'Twitter.csv'",
     "output_type": "error",
     "traceback": [
      "\u001b[0;31m---------------------------------------------------------------------------\u001b[0m",
      "\u001b[0;31mFileNotFoundError\u001b[0m                         Traceback (most recent call last)",
      "\u001b[0;32m<ipython-input-12-b0acc9f53730>\u001b[0m in \u001b[0;36m<module>\u001b[0;34m()\u001b[0m\n\u001b[1;32m    108\u001b[0m \u001b[0;31m#trainCategoriesClassifier()\u001b[0m\u001b[0;34m\u001b[0m\u001b[0;34m\u001b[0m\u001b[0m\n\u001b[1;32m    109\u001b[0m \u001b[0;34m\u001b[0m\u001b[0m\n\u001b[0;32m--> 110\u001b[0;31m \u001b[0mfinal\u001b[0m \u001b[0;34m=\u001b[0m \u001b[0mgetData\u001b[0m\u001b[0;34m(\u001b[0m\u001b[0;34m)\u001b[0m\u001b[0;34m\u001b[0m\u001b[0m\n\u001b[0m\u001b[1;32m    111\u001b[0m \u001b[0;34m\u001b[0m\u001b[0m\n\u001b[1;32m    112\u001b[0m \u001b[0;34m\u001b[0m\u001b[0m\n",
      "\u001b[0;32m<ipython-input-12-b0acc9f53730>\u001b[0m in \u001b[0;36mgetData\u001b[0;34m()\u001b[0m\n\u001b[1;32m     96\u001b[0m \u001b[0;34m\u001b[0m\u001b[0m\n\u001b[1;32m     97\u001b[0m \u001b[0;32mdef\u001b[0m \u001b[0mgetData\u001b[0m\u001b[0;34m(\u001b[0m\u001b[0;34m)\u001b[0m\u001b[0;34m:\u001b[0m\u001b[0;34m\u001b[0m\u001b[0m\n\u001b[0;32m---> 98\u001b[0;31m     \u001b[0mdata\u001b[0m\u001b[0;34m,\u001b[0m\u001b[0mpredicted\u001b[0m \u001b[0;34m=\u001b[0m \u001b[0mgetCategory\u001b[0m\u001b[0;34m(\u001b[0m\u001b[0mloadTweetsFile\u001b[0m\u001b[0;34m(\u001b[0m\u001b[0;34m)\u001b[0m\u001b[0;34m)\u001b[0m\u001b[0;34m\u001b[0m\u001b[0m\n\u001b[0m\u001b[1;32m     99\u001b[0m     \u001b[0mcat\u001b[0m\u001b[0;34m=\u001b[0m\u001b[0mtwenty_train\u001b[0m\u001b[0;34m.\u001b[0m\u001b[0mtarget_names\u001b[0m\u001b[0;34m\u001b[0m\u001b[0m\n\u001b[1;32m    100\u001b[0m     \u001b[0mtmp\u001b[0m\u001b[0;34m=\u001b[0m\u001b[0;34m[\u001b[0m\u001b[0;34m]\u001b[0m\u001b[0;34m\u001b[0m\u001b[0m\n",
      "\u001b[0;32m<ipython-input-12-b0acc9f53730>\u001b[0m in \u001b[0;36mgetCategory\u001b[0;34m(result)\u001b[0m\n\u001b[1;32m     84\u001b[0m     \u001b[0mans\u001b[0m \u001b[0;34m=\u001b[0m \u001b[0;34m[\u001b[0m\u001b[0;34m]\u001b[0m\u001b[0;34m\u001b[0m\u001b[0m\n\u001b[1;32m     85\u001b[0m     \u001b[0;32mfor\u001b[0m \u001b[0mf\u001b[0m \u001b[0;32min\u001b[0m \u001b[0mresult\u001b[0m\u001b[0;34m:\u001b[0m\u001b[0;34m\u001b[0m\u001b[0m\n\u001b[0;32m---> 86\u001b[0;31m         \u001b[0mans\u001b[0m \u001b[0;34m=\u001b[0m \u001b[0mans\u001b[0m\u001b[0;34m+\u001b[0m\u001b[0mreadFile\u001b[0m\u001b[0;34m(\u001b[0m\u001b[0mf\u001b[0m\u001b[0;34m)\u001b[0m\u001b[0;34m\u001b[0m\u001b[0m\n\u001b[0m\u001b[1;32m     87\u001b[0m \u001b[0;34m\u001b[0m\u001b[0m\n\u001b[1;32m     88\u001b[0m     \u001b[0mdata\u001b[0m \u001b[0;34m=\u001b[0m \u001b[0mnp\u001b[0m\u001b[0;34m.\u001b[0m\u001b[0marray\u001b[0m\u001b[0;34m(\u001b[0m\u001b[0mans\u001b[0m\u001b[0;34m)\u001b[0m\u001b[0;34m\u001b[0m\u001b[0m\n",
      "\u001b[0;32m<ipython-input-12-b0acc9f53730>\u001b[0m in \u001b[0;36mreadFile\u001b[0;34m(fname)\u001b[0m\n\u001b[1;32m     64\u001b[0m \u001b[0;32mdef\u001b[0m \u001b[0mreadFile\u001b[0m\u001b[0;34m(\u001b[0m\u001b[0mfname\u001b[0m\u001b[0;34m)\u001b[0m\u001b[0;34m:\u001b[0m\u001b[0;34m\u001b[0m\u001b[0m\n\u001b[1;32m     65\u001b[0m     \u001b[0mans\u001b[0m \u001b[0;34m=\u001b[0m \u001b[0;34m[\u001b[0m\u001b[0;34m]\u001b[0m\u001b[0;34m\u001b[0m\u001b[0m\n\u001b[0;32m---> 66\u001b[0;31m     \u001b[0;32mwith\u001b[0m \u001b[0mopen\u001b[0m\u001b[0;34m(\u001b[0m\u001b[0mfname\u001b[0m\u001b[0;34m)\u001b[0m \u001b[0;32mas\u001b[0m \u001b[0mf\u001b[0m\u001b[0;34m:\u001b[0m\u001b[0;34m\u001b[0m\u001b[0m\n\u001b[0m\u001b[1;32m     67\u001b[0m         \u001b[0mreader\u001b[0m \u001b[0;34m=\u001b[0m \u001b[0mcsv\u001b[0m\u001b[0;34m.\u001b[0m\u001b[0mreader\u001b[0m\u001b[0;34m(\u001b[0m\u001b[0mf\u001b[0m\u001b[0;34m,\u001b[0m\u001b[0mdelimiter\u001b[0m\u001b[0;34m=\u001b[0m\u001b[0;34m';'\u001b[0m\u001b[0;34m)\u001b[0m\u001b[0;34m\u001b[0m\u001b[0m\n\u001b[1;32m     68\u001b[0m         \u001b[0;32mfor\u001b[0m \u001b[0mrow\u001b[0m \u001b[0;32min\u001b[0m \u001b[0mreader\u001b[0m\u001b[0;34m:\u001b[0m\u001b[0;34m\u001b[0m\u001b[0m\n",
      "\u001b[0;31mFileNotFoundError\u001b[0m: [Errno 2] No such file or directory: 'Twitter.csv'"
     ]
    }
   ],
   "source": [
    "import os\n",
    "import glob\n",
    "import csv\n",
    "import numpy as np\n",
    "import re\n",
    "\n",
    "from sklearn.datasets import fetch_20newsgroups\n",
    "from sklearn.feature_extraction.text import CountVectorizer\n",
    "from sklearn.pipeline import Pipeline\n",
    "from sklearn.feature_extraction.text import TfidfTransformer\n",
    "from sklearn.naive_bayes import MultinomialNB\n",
    "from sklearn.cross_validation import train_test_split\n",
    "from sklearn.linear_model import SGDClassifier\n",
    "from sklearn import metrics\n",
    "import numpy as np\n",
    "import pickle\n",
    "\n",
    "#training Classification\n",
    "\n",
    "def trainCategoriesClassifier():\n",
    "    twenty_train = fetch_20newsgroups(subset='train', shuffle=True, random_state=42)\n",
    "\n",
    "    text_clf = Pipeline([('vect', CountVectorizer()),('tfidf',TfidfTransformer()),('clf', SGDClassifier(loss='hinge', penalty='l2',alpha=1e-3, random_state=42,max_iter=5, tol=None)),])\n",
    "    #text_clf = Pipeline([('vect', CountVectorizer()),('tfidf',TfidfTransformer()),('clf', MultinomialNB()),])\n",
    "\n",
    "    #Bayes Naive Train Model\n",
    "    text_clf.fit(twenty_train.data, twenty_train.target)  \n",
    "    with open('./pickleObj/CatClassifier.pkl', 'wb') as f: \n",
    "        pickle.dump([text_clf], f)\n",
    "    f.close()\n",
    "    \n",
    "def loadCategoriesClassifier():\n",
    "    with open('./pickleObj/CatClassifier.pkl','rb') as f:  # Python 3: open(..., 'rb')\n",
    "        text_clf= pickle.load(f)\n",
    "    f.close()\n",
    "    return text_clf\n",
    "\n",
    "def getIntoDir(name):\n",
    "    path = './%s' % name\n",
    "    os.chdir(path)\n",
    "def getOutDir():\n",
    "    path = '..'\n",
    "    os.chdir(path)\n",
    "             \n",
    "def loadTweetsFile():\n",
    "    getIntoDir('TweetsData')\n",
    "    print (os.getcwd())\n",
    "    extension = 'csv'\n",
    "    result = [i for i in glob.glob('*.{}'.format(extension))]\n",
    "    \n",
    "    getOutDir()\n",
    "    return result\n",
    "\n",
    "def removeSubString(s,sub):\n",
    "    start = s.find(sub)\n",
    "    end = s.find(' ', start)\n",
    "    if (end ==-1):\n",
    "        end = len(s)\n",
    "    tmp = s[:start] + s[end:]\n",
    "    if (tmp.find(sub)!=-1):\n",
    "        tmp = removeSubString(tmp,sub)\n",
    "    return (tmp)\n",
    "\n",
    "def readFile(fname):\n",
    "    getIntoDir('TweetsData')\n",
    "    ans = []\n",
    "    with open(fname) as f:\n",
    "        reader = csv.reader(f,delimiter=';')\n",
    "        for row in reader:\n",
    "            tmp = [row[0],row[1],row[2],row[3],row[4]]\n",
    "            ans.append(tmp)\n",
    "    getOutDir()\n",
    "    return ans\n",
    "\n",
    "def cleanString(s):\n",
    "    tmp = removeSubString(s,\"http\")\n",
    "    tmp = removeSubString(tmp,\"@\")\n",
    "    tmp = removeSubString(tmp,\"#\")\n",
    "    tmp = removeSubString(tmp,\"&amp\")\n",
    "    tmp = re.sub('[^a-zA-Z ]+', ' ', tmp)\n",
    "    tmp = re.sub( '\\s+', ' ', tmp ).strip()\n",
    "    return tmp.lower()\n",
    "\n",
    "def getCategory(result):\n",
    "    text_clf=loadTweetsFile()\n",
    "    ans = []\n",
    "    for f in result:\n",
    "        ans = ans+readFile(f)\n",
    "\n",
    "    data = np.array(ans)\n",
    "\n",
    "    tweetL = data[:,4].tolist()\n",
    "    tweetLClean=[]\n",
    "    for i in tweetL:\n",
    "        tmp = cleanString(i)\n",
    "        tweetLClean.append(tmp)\n",
    "    return data,text_clf.predict(tweetLClean)\n",
    "\n",
    "def getData():\n",
    "    data,predicted = getCategory(loadTweetsFile())\n",
    "    cat=twenty_train.target_names\n",
    "    tmp=[]\n",
    "    for i in predicted:\n",
    "        tmp.append(cat[i])\n",
    "    predicted = tmp\n",
    "    predictedNP=np.transpose(np.array(predicted))\n",
    "    ans = np.column_stack(data, predictedNP)\n",
    "    return ans\n",
    "    \n",
    "#trainCategoriesClassifier()\n",
    "\n",
    "final = getData()\n",
    "\n",
    "\n",
    "# In[10]:"
   ]
  },
  {
   "cell_type": "code",
   "execution_count": 10,
   "metadata": {},
   "outputs": [
    {
     "data": {
      "text/plain": [
       "'./hello'"
      ]
     },
     "execution_count": 10,
     "metadata": {},
     "output_type": "execute_result"
    }
   ],
   "source": []
  }
 ],
 "metadata": {
  "kernelspec": {
   "display_name": "Python 3",
   "language": "python",
   "name": "python3"
  },
  "language_info": {
   "codemirror_mode": {
    "name": "ipython",
    "version": 3
   },
   "file_extension": ".py",
   "mimetype": "text/x-python",
   "name": "python",
   "nbconvert_exporter": "python",
   "pygments_lexer": "ipython3",
   "version": "3.6.4"
  }
 },
 "nbformat": 4,
 "nbformat_minor": 2
}
