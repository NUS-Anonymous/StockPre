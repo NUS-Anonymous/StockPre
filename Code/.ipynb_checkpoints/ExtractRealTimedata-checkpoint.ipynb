{
 "cells": [
  {
   "cell_type": "code",
   "execution_count": 1,
   "metadata": {},
   "outputs": [],
   "source": [
    "import os\n",
    "import os.path\n",
    "import Exporter\n",
    "import got3\n",
    "import codecs\n",
    "from datetime import datetime\n",
    "from datetime import timedelta\n",
    "import time\n",
    "from threading import Thread\n",
    "import pickle\n",
    "cwd = os.getcwd()\n",
    "parentDir = os.path.dirname(cwd)\n"
   ]
  },
  {
   "cell_type": "code",
   "execution_count": null,
   "metadata": {},
   "outputs": [],
   "source": []
  },
  {
   "cell_type": "code",
   "execution_count": 2,
   "metadata": {},
   "outputs": [],
   "source": [
    "\n",
    "start_time = time.time()\n",
    "\n",
    "def savePickleFile(d,varList):\n",
    "    with open(d, 'wb') as f: \n",
    "        pickle.dump(varList, f)\n",
    "    f.close()\n",
    "def loadPickleFile(d):\n",
    "    with open(d,'rb') as f:  # Python 3: open(..., 'rb')\n",
    "        varList = pickle.load(f)\n",
    "    f.close()\n",
    "    return varList \n",
    "\n",
    "def makeDirectory(folder_name1,sub_folder):\n",
    "    directory = os.path.join(folder_name1 , sub_folder)\n",
    "    if not os.path.exists(directory):\n",
    "            os.makedirs(directory)\n",
    "    return directory\n",
    "\n",
    "def getOutputDir(folderName,fileName):\n",
    "    global parentDir\n",
    "    outputPath = makeDirectory(parentDir , folderName) \n",
    "    d = outputPath + \"/%s\"%(fileName)\n",
    "    return d\n",
    "\n",
    "def getData(name,startObj,endObj):\n",
    "    \n",
    "#     print (\"getting Data\")\n",
    "    start = startObj.strftime('%Y-%m-%d')\n",
    "    end = endObj.strftime('%Y-%m-%d')\n",
    "    tweetCriteria = got3.manager.TweetCriteria().setUsername(name).setSince(start).setUntil(end).setMaxTweets(0)\n",
    "    tweet = got3.manager.TweetManager.getTweets(tweetCriteria)\n",
    "    outputFileName = getOutputDir(\"Twitter\",name+\".csv\")\n",
    "    outputFile = codecs.open(outputFileName, \"a\", \"utf-8\")\n",
    "    for t in tweet:\n",
    "        outputFile.write(('%s;%s;%d;%d;\"%s\"\\n' % (name,t.date.strftime(\"%Y-%m-%d %H:%M\"), t.retweets, t.favorites, t.text)))\n",
    "    outputFile.flush()"
   ]
  },
  {
   "cell_type": "code",
   "execution_count": null,
   "metadata": {},
   "outputs": [],
   "source": []
  },
  {
   "cell_type": "code",
   "execution_count": 3,
   "metadata": {
    "scrolled": true
   },
   "outputs": [],
   "source": [
    "def getTweets(name):\n",
    "#     print (\"Getting \" + name)\n",
    "    if (os.path.isfile(getOutputDir(\"Twitter\",\"config.pkl\"))):\n",
    "        timeDict = loadPickleFile(getOutputDir(\"Twitter\",\"config.pkl\"))[0]\n",
    "    else:\n",
    "        timeDict = {}\n",
    "\n",
    "    now = datetime.now()\n",
    "#     now = datetime(2016,1,20)\n",
    "    end = now\n",
    "    \n",
    "    one_week = timedelta(days=30)\n",
    "    fName =getOutputDir(\"Twitter\",name+\".csv\")\n",
    "#     if (not (os.path.isfile(fName))):\n",
    "#         print (\"New Indiv_Database\")\n",
    "    if (name in timeDict):\n",
    "        start_STOPObject = timeDict[name]\n",
    "        print (start_STOPObject)\n",
    "    else:\n",
    "        start_STOP = '2012-01-01'\n",
    "        start_STOPObject = datetime.strptime(start_STOP, '%Y-%m-%d')\n",
    "   \n",
    "    start = end - one_week\n",
    "    while (start > start_STOPObject):\n",
    "        getData(name,start,end)\n",
    "        end = start\n",
    "        start = end - one_week\n",
    "    getData(name,start_STOPObject,end)\n",
    "    \n",
    "    if (os.path.isfile(getOutputDir(\"Twitter\",\"config.pkl\"))):\n",
    "        timeDict = loadPickleFile(getOutputDir(\"Twitter\",\"config.pkl\"))[0]\n",
    "    timeDict[name]=end\n",
    "    savePickleFile(getOutputDir(\"Twitter\",\"config.pkl\"),[timeDict])\n",
    "#     print (timeDict)\n",
    "#     else: \n",
    "# #         print (\"Just Append\")\n",
    "#         tRead=(time.ctime(os.stat(fName).st_atime))\n",
    "#         fileDate = datetime.strptime(tRead, \"%a %b %d %H:%M:%S %Y\")\n",
    "#         start = fileDate\n",
    "#         getData(name,start,end)"
   ]
  },
  {
   "cell_type": "code",
   "execution_count": null,
   "metadata": {},
   "outputs": [],
   "source": []
  },
  {
   "cell_type": "code",
   "execution_count": 4,
   "metadata": {},
   "outputs": [
    {
     "name": "stdout",
     "output_type": "stream",
     "text": [
      "Exit main thread\n",
      "--- 59.94600224494934 seconds ---\n"
     ]
    }
   ],
   "source": [
    "ppl=[\"BillGates\",\"realdonaldtrump\",\"Ellen\",\"ElonMusk\",\"barackobama\",\"katyperry\",'justinbieber','rihanna',\n",
    "    'ladygaga','taylorswift13','TheEllenShow','Cristiano','YouTube','jtimberlake','Twitter','KimKardashian',\n",
    "    'ArianaGrande','ddlovato','selenagomez','cnnbrk','shakira','jimmyfallon','HillaryClinton',\n",
    "    'JeffBezos0147','JustinTrudeau','KylieJenner','Official_Markfb','MoneyUnder30','NASA','Oprah','Yahoo']\n",
    "\n",
    "\n",
    "threads=[]\n",
    "for p in ppl:\n",
    "    t = Thread(target = getTweets, args = (p,)) \n",
    "    threads.append(t)\n",
    "for t in threads:\n",
    "    t.start()\n",
    "for t in threads:\n",
    "    t.join()\n",
    "print(\"Exit main thread\")\n",
    "print(\"--- %s seconds ---\" % (time.time() - start_time))\n"
   ]
  },
  {
   "cell_type": "code",
   "execution_count": null,
   "metadata": {
    "scrolled": false
   },
   "outputs": [],
   "source": []
  },
  {
   "cell_type": "code",
   "execution_count": null,
   "metadata": {},
   "outputs": [],
   "source": []
  },
  {
   "cell_type": "code",
   "execution_count": null,
   "metadata": {},
   "outputs": [],
   "source": []
  },
  {
   "cell_type": "code",
   "execution_count": null,
   "metadata": {},
   "outputs": [],
   "source": []
  },
  {
   "cell_type": "code",
   "execution_count": null,
   "metadata": {},
   "outputs": [],
   "source": []
  }
 ],
 "metadata": {
  "kernelspec": {
   "display_name": "Python 3",
   "language": "python",
   "name": "python3"
  },
  "language_info": {
   "codemirror_mode": {
    "name": "ipython",
    "version": 3
   },
   "file_extension": ".py",
   "mimetype": "text/x-python",
   "name": "python",
   "nbconvert_exporter": "python",
   "pygments_lexer": "ipython3",
   "version": "3.6.4"
  }
 },
 "nbformat": 4,
 "nbformat_minor": 2
}
